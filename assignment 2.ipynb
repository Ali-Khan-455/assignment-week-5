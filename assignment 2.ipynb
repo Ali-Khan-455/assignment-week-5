{
 "cells": [
  {
   "cell_type": "markdown",
   "metadata": {},
   "source": [
    "# 1. Calculate area of circle."
   ]
  },
  {
   "cell_type": "code",
   "execution_count": 1,
   "metadata": {},
   "outputs": [
    {
     "name": "stdout",
     "output_type": "stream",
     "text": [
      "1213.3106999999998\n"
     ]
    }
   ],
   "source": [
    "pi = 3.14\n",
    "pi = 9.2\n",
    "pi = 16.03\n",
    "def calcArea(_radiu):\n",
    "    return pi*_radiu**2\n",
    "\n",
    "print(calcArea(8.7))"
   ]
  },
  {
   "cell_type": "markdown",
   "metadata": {},
   "source": [
    "# 2. Write function to check if a value exists in a list"
   ]
  },
  {
   "cell_type": "code",
   "execution_count": 3,
   "metadata": {},
   "outputs": [
    {
     "name": "stdout",
     "output_type": "stream",
     "text": [
      "The Given Value python exist in a list at point 0\n",
      "The Given Value html exist in a list at point 7\n",
      "The Given Value c exist in a list at point 4\n"
     ]
    }
   ],
   "source": [
    "def checkVal(r,chkvl):\n",
    "    for pos,i in  enumerate(r):\n",
    "        if i == chkvl :\n",
    "            return f\"The Given Value {chkvl} exist in a list at point {pos}\"\n",
    "    return \"Not Exixtes!\"\n",
    "\n",
    "data = [\"python\", \"r\", \"java\", \"pascal\", \"c\", \"javascript\", \"assembley\", \"html\", \"c++\"]\n",
    "print(checkVal(data,\"python\"))\n",
    "print(checkVal(data,\"html\"))\n",
    "print(checkVal(data,\"c\"))"
   ]
  },
  {
   "cell_type": "markdown",
   "metadata": {},
   "source": [
    "# 4. Use while loop to get data"
   ]
  },
  {
   "cell_type": "code",
   "execution_count": 12,
   "metadata": {},
   "outputs": [
    {
     "name": "stdout",
     "output_type": "stream",
     "text": [
      "Enter radius or write quite to exit : quite\n"
     ]
    }
   ],
   "source": [
    "def radius_of_circle():\n",
    "    while True:\n",
    "        r = input(\"Enter radius or write quite to exit : \")\n",
    "        if r == \"quite\":\n",
    "            break\n",
    "        else: \n",
    "            print(calcArea(float(r)))\n",
    " \n",
    "radius_of_circle() "
   ]
  },
  {
   "cell_type": "markdown",
   "metadata": {},
   "source": [
    "# 5. Function with **kwargs:"
   ]
  },
  {
   "cell_type": "code",
   "execution_count": 13,
   "metadata": {},
   "outputs": [
    {
     "name": "stdout",
     "output_type": "stream",
     "text": [
      "Hello Ali \n",
      "Here is youer result for class of AI\n",
      "ClassMarks:\n",
      "math : 50\n",
      "physics : 80\n",
      "biology : 90\n",
      "computer : 67\n",
      "Total marks are: 287\n",
      "Percentage is as follows 71.75%\n",
      "Maximum marks are in 'Biology'\n",
      "Minimum marks are in 'Math'\n",
      "You are promoted to next class.\n"
     ]
    }
   ],
   "source": [
    "dict_user = {\"name\" : \"Ali\", \"class\" : \"AI\",\"marks\" : {\"math\" : 50, \"physics\" : 80, \"biology\" : 90, \"computer\" : 67}, \"date\" : \"1 Feb 2020\", \"nextClass\" : True } \n",
    "def showDetails(**kwags):\n",
    "    print(f\"Hello { kwags['name'] } \")\n",
    "    print(f\"Here is youer result for class of {kwags['class']}\")\n",
    "    print(f\"ClassMarks:\")\n",
    "    total = 0\n",
    "    for k,v in kwags[\"marks\"].items():\n",
    "        print(f\"{k} : {v}\")\n",
    "        total += v \n",
    "    print(f\"Total marks are: {total}\")\n",
    "    print(f\"Percentage is as follows {total/400 * 100}%\")\n",
    "    print(f\"Maximum marks are in 'Biology'\")\n",
    "    print(\"Minimum marks are in 'Math'\")\n",
    "    print(\"You are promoted to next class.\")\n",
    " \n",
    "showDetails(**dict_user)"
   ]
  },
  {
   "cell_type": "markdown",
   "metadata": {},
   "source": [
    "# 3. Write a function to shift list item to right n times"
   ]
  },
  {
   "cell_type": "code",
   "execution_count": 14,
   "metadata": {},
   "outputs": [
    {
     "name": "stdout",
     "output_type": "stream",
     "text": [
      "['assembley', 'html', 'c++', 'python', 'r', 'java', 'pascal', 'c', 'javascript']\n"
     ]
    }
   ],
   "source": [
    "def shiftItems (lists, num): \n",
    "    output_list = [] \n",
    "    for item in range(len(lists) - num, len(lists)): \n",
    "        output_list.append(lists[item]) \n",
    "    for item in range(0, len(lists) - num):  \n",
    "        output_list.append(lists[item])   \n",
    "    return output_list \n",
    "   \n",
    "print(shiftItems(data,3)) "
   ]
  },
  {
   "cell_type": "code",
   "execution_count": null,
   "metadata": {},
   "outputs": [],
   "source": []
  }
 ],
 "metadata": {
  "kernelspec": {
   "display_name": "Python 3",
   "language": "python",
   "name": "python3"
  },
  "language_info": {
   "codemirror_mode": {
    "name": "ipython",
    "version": 3
   },
   "file_extension": ".py",
   "mimetype": "text/x-python",
   "name": "python",
   "nbconvert_exporter": "python",
   "pygments_lexer": "ipython3",
   "version": "3.7.4"
  }
 },
 "nbformat": 4,
 "nbformat_minor": 2
}
